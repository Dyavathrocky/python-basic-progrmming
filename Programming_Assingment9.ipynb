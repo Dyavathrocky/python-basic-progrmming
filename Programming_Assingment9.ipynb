{
 "cells": [
  {
   "cell_type": "raw",
   "metadata": {},
   "source": [
    "    1. Write a Python program to check if the given number is a Disarium Number?\n",
    "    2. Write a Python program to print all disarium numbers between 1 to 100?\n",
    "    3. Write a Python program to check if the given number is Happy Number?\n",
    "    4. Write a Python program to print all happy numbers between 1 and 100?\n",
    "    5. Write a Python program to determine whether the given number is a Harshad Number?\n",
    "    6. Write a Python program to print all pronic numbers between 1 and 100?"
   ]
  },
  {
   "cell_type": "raw",
   "metadata": {},
   "source": [
    "    1. Write a Python program to check if the given number is a Disarium Number?"
   ]
  },
  {
   "cell_type": "code",
   "execution_count": 3,
   "metadata": {},
   "outputs": [
    {
     "name": "stdout",
     "output_type": "stream",
     "text": [
      "A copy of the original number is being made...\n",
      "89 is a disarium number !\n"
     ]
    }
   ],
   "source": [
    "def length_calculation(num_val):\n",
    "   length = 0\n",
    "   while(num_val != 0):\n",
    "      length = length + 1\n",
    "      num_val = num_val//10\n",
    "   return length\n",
    "my_num = 89\n",
    "remaining = sum_val = 0\n",
    "len_val = length_calculation(my_num)\n",
    "print(\"A copy of the original number is being made...\")\n",
    "num_val = my_num\n",
    "while(my_num > 0):\n",
    "   remaining = my_num%10\n",
    "   sum_val = sum_val + int(remaining**len_val)\n",
    "   my_num = my_num//10\n",
    "   len_val = len_val - 1\n",
    "if(sum_val == num_val):\n",
    "   print(str(num_val) + \" is a disarium number !\")\n",
    "else:\n",
    "   print(str(num_val) + \" isn't a disarium number\")"
   ]
  },
  {
   "cell_type": "code",
   "execution_count": null,
   "metadata": {},
   "outputs": [],
   "source": [
    "    "
   ]
  }
 ],
 "metadata": {
  "kernelspec": {
   "display_name": "Python 3",
   "language": "python",
   "name": "python3"
  },
  "language_info": {
   "codemirror_mode": {
    "name": "ipython",
    "version": 3
   },
   "file_extension": ".py",
   "mimetype": "text/x-python",
   "name": "python",
   "nbconvert_exporter": "python",
   "pygments_lexer": "ipython3",
   "version": "3.8.5"
  }
 },
 "nbformat": 4,
 "nbformat_minor": 4
}
