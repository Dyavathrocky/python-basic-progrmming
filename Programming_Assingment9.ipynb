{
 "cells": [
  {
   "cell_type": "raw",
   "metadata": {},
   "source": [
    "    1. Write a Python program to check if the given number is a Disarium Number?\n",
    "    2. Write a Python program to print all disarium numbers between 1 to 100?\n",
    "    3. Write a Python program to check if the given number is Happy Number?\n",
    "    4. Write a Python program to print all happy numbers between 1 and 100?\n",
    "    5. Write a Python program to determine whether the given number is a Harshad Number?\n",
    "    6. Write a Python program to print all pronic numbers between 1 and 100?"
   ]
  },
  {
   "cell_type": "raw",
   "metadata": {},
   "source": [
    "    1. Write a Python program to check if the given number is a Disarium Number?"
   ]
  },
  {
   "cell_type": "code",
   "execution_count": 11,
   "metadata": {},
   "outputs": [
    {
     "name": "stdout",
     "output_type": "stream",
     "text": [
      "please enter number you want to check is it disarium number or not   89\n",
      "89 is a disarium number !\n"
     ]
    }
   ],
   "source": [
    "def length_calculation(num_val):\n",
    "   length = 0\n",
    "   while(num_val != 0):\n",
    "      length = length + 1\n",
    "      num_val = num_val//10\n",
    "   return length\n",
    "my_num = int(input(\"please enter number you want to check is it disarium number or not   \"))\n",
    "remaining = sum_val = 0\n",
    "len_val = length_calculation(my_num)\n",
    "#print(\"A copy of the original number is being made...\")\n",
    "num_val = my_num\n",
    "while(my_num > 0):\n",
    "   remaining = my_num%10\n",
    "   sum_val = sum_val + int(remaining**len_val)\n",
    "   my_num = my_num//10\n",
    "   len_val = len_val - 1\n",
    "if(sum_val == num_val):\n",
    "   print(str(num_val) + \" is a disarium number !\")\n",
    "else:\n",
    "   print(str(num_val) + \" isn't a disarium number\")"
   ]
  },
  {
   "cell_type": "markdown",
   "metadata": {},
   "source": [
    "    2. Write a Python program to print all disarium numbers between 1 to 100?"
   ]
  },
  {
   "cell_type": "code",
   "execution_count": 29,
   "metadata": {},
   "outputs": [
    {
     "name": "stdout",
     "output_type": "stream",
     "text": [
      "The disarium numbers between 1 and 100 are : \n",
      "[1, 2, 3, 4, 5, 6, 7, 8, 9, 89]\n"
     ]
    }
   ],
   "source": [
    "def length_calculation(my_val):\n",
    "   len_val = 0\n",
    "   while(my_val != 0):\n",
    "      len_val = len_val + 1\n",
    "      my_val = my_val//10\n",
    "   return len_val\n",
    "def digit_sum(my_num):\n",
    "   remaining = sum_val = 0\n",
    "   len_fun = length_calculation(my_num)\n",
    "   while(my_num > 0):\n",
    "      remaining = my_num%10\n",
    "      sum_val = sum_val + (remaining**len_fun)\n",
    "      my_num = my_num//10\n",
    "      len_fun = len_fun - 1\n",
    "   return sum_val\n",
    "ini_result = 0\n",
    "print(\"The disarium numbers between 1 and 100 are : \")\n",
    "li = []\n",
    "for i in range(1, 101):\n",
    "   ini_result = digit_sum(i)\n",
    "   if(ini_result == i):\n",
    "      #print(i)\n",
    "      li.append(i)\n",
    "print(li)"
   ]
  },
  {
   "cell_type": "markdown",
   "metadata": {},
   "source": [
    "STEP 1: isHappyNumber() determines whether a given number is happy or not.\n",
    "If the number is greater than 0, then calculate remainder rem by dividing the number with 10.\n",
    "Calculate square of rem and add it to a variable sum.\n",
    "Divide number by 10.\n",
    "Repeat the steps from a to c till the sum of the square of all digits present in number has been calculated.\n",
    "Finally, return the sum.\n",
    "STEP 2: Define and initialize variable num.\n",
    "STEP 3: Define a variable result and initialize it with a value of num.\n",
    "STEP 4: If the result is neither equal to 1 nor 4 then, make a call to isHappyNumber().\n",
    "STEP 5: Otherwise, if the result is equal to 1 then, given number is a happy number.\n",
    "STEP 6: If the result is equal to 4 then, given number is not a happy number."
   ]
  },
  {
   "cell_type": "code",
   "execution_count": 42,
   "metadata": {},
   "outputs": [
    {
     "name": "stdout",
     "output_type": "stream",
     "text": [
      "82 is a happy number\n"
     ]
    }
   ],
   "source": [
    "def isHappyNumber(num):    \n",
    "    rem = sum = 0;     \n",
    "    while(num > 0):  \n",
    "        rem = num%10;    \n",
    "        sum = sum + (rem*rem);    \n",
    "        num = num//10;    \n",
    "    return sum;    \n",
    "        \n",
    "num = 82;    \n",
    "result = num;    \n",
    "     \n",
    "while(result != 1 and result != 4):    \n",
    "    result = isHappyNumber(result);    \n",
    "   \n",
    "if(result == 1):    \n",
    "    print(str(num) + \" is a happy number\");       \n",
    "elif(result == 4):    \n",
    "    print(str(num) + \" is not a happy number\");   "
   ]
  },
  {
   "cell_type": "raw",
   "metadata": {},
   "source": [
    "  4. Write a Python program to print all happy numbers between 1 and 100?"
   ]
  },
  {
   "cell_type": "code",
   "execution_count": 51,
   "metadata": {},
   "outputs": [
    {
     "name": "stdout",
     "output_type": "stream",
     "text": [
      "list of happy numbers 1 to 100  \n",
      "[1, 7, 10, 13, 19, 23, 28, 31, 32, 44, 49, 68, 70, 79, 82, 86, 91, 94, 97]\n"
     ]
    }
   ],
   "source": [
    "def isHappyNumber(num):    \n",
    "    rem = sum = 0;     \n",
    "    while(num > 0):  \n",
    "        rem = num%10;    \n",
    "        sum = sum + (rem*rem);    \n",
    "        num = num//10;    \n",
    "    return sum; \n",
    "\n",
    "print(\"list of happy numbers 1 to 100  \")\n",
    "li = []\n",
    "for i in range(1,100):\n",
    "    result = i\n",
    "    while(result != 1 and result != 4):    \n",
    "        result = isHappyNumber(result);           \n",
    "    if(result == 1):    \n",
    "        #print(i)\n",
    "        #print(\" \")\n",
    "        li.append(i)\n",
    "print(li)\n",
    "        \n",
    "        "
   ]
  },
  {
   "cell_type": "raw",
   "metadata": {},
   "source": [
    "    5. Write a Python program to determine whether the given number is a Harshad Number?"
   ]
  },
  {
   "cell_type": "code",
   "execution_count": 53,
   "metadata": {},
   "outputs": [
    {
     "name": "stdout",
     "output_type": "stream",
     "text": [
      "Enter number: 18\n",
      "18 is Harshad Number\n"
     ]
    }
   ],
   "source": [
    "number = int(input('Enter number: '))\n",
    "copy = number\n",
    "digit_sum = 0\n",
    "while number:\n",
    "    digit_sum += number%10\n",
    "    number //= 10\n",
    "if copy%digit_sum == 0:\n",
    "    print('%d is Harshad Number' % (copy))\n",
    "else:\n",
    "    print('%d is Not Harshad Number' % (copy))"
   ]
  },
  {
   "cell_type": "raw",
   "metadata": {},
   "source": [
    "    6. Write a Python program to print all pronic numbers between 1 and 100?"
   ]
  },
  {
   "cell_type": "code",
   "execution_count": 56,
   "metadata": {},
   "outputs": [
    {
     "name": "stdout",
     "output_type": "stream",
     "text": [
      "Pronic numbers between 1 and 100: \n",
      "[2, 6, 12, 20, 30, 42, 56, 72, 90]\n"
     ]
    }
   ],
   "source": [
    " def isPronicNumber(num):    \n",
    "    flag = False;    \n",
    "        \n",
    "    for j in range(1, num+1):    \n",
    "        if((j*(j+1)) == num):    \n",
    "            flag = True;    \n",
    "            break;    \n",
    "    return flag;    \n",
    "      \n",
    "print(\"Pronic numbers between 1 and 100: \");  \n",
    "li = []\n",
    "for i in range(1, 101):    \n",
    "    if(isPronicNumber(i)): \n",
    "        li.append(i)\n",
    "        #print(i),    \n",
    "        #print(\" \"), \n",
    "print(li)"
   ]
  },
  {
   "cell_type": "code",
   "execution_count": null,
   "metadata": {},
   "outputs": [],
   "source": []
  }
 ],
 "metadata": {
  "kernelspec": {
   "display_name": "Python 3 (ipykernel)",
   "language": "python",
   "name": "python3"
  },
  "language_info": {
   "codemirror_mode": {
    "name": "ipython",
    "version": 3
   },
   "file_extension": ".py",
   "mimetype": "text/x-python",
   "name": "python",
   "nbconvert_exporter": "python",
   "pygments_lexer": "ipython3",
   "version": "3.8.8"
  }
 },
 "nbformat": 4,
 "nbformat_minor": 4
}
