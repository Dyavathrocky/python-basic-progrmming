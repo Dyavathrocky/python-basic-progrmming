{
 "cells": [
  {
   "cell_type": "raw",
   "metadata": {},
   "source": [
    "    1. Write a Python program to check if the given number is a Disarium Number?\n",
    "    2. Write a Python program to print all disarium numbers between 1 to 100?\n",
    "    3. Write a Python program to check if the given number is Happy Number?\n",
    "    4. Write a Python program to print all happy numbers between 1 and 100?\n",
    "    5. Write a Python program to determine whether the given number is a Harshad Number?\n",
    "    6. Write a Python program to print all pronic numbers between 1 and 100?"
   ]
  },
  {
   "cell_type": "raw",
   "metadata": {},
   "source": [
    "    1. Write a Python program to check if the given number is a Disarium Number?"
   ]
  },
  {
   "cell_type": "code",
   "execution_count": 3,
   "metadata": {},
   "outputs": [
    {
     "name": "stdout",
     "output_type": "stream",
     "text": [
      "A copy of the original number is being made...\n",
      "89 is a disarium number !\n"
     ]
    }
   ],
   "source": [
    "def length_calculation(num_val):\n",
    "   length = 0\n",
    "   while(num_val != 0):\n",
    "      length = length + 1\n",
    "      num_val = num_val//10\n",
    "   return length\n",
    "my_num = 89\n",
    "remaining = sum_val = 0\n",
    "len_val = length_calculation(my_num)\n",
    "print(\"A copy of the original number is being made...\")\n",
    "num_val = my_num\n",
    "while(my_num > 0):\n",
    "   remaining = my_num%10\n",
    "   sum_val = sum_val + int(remaining**len_val)\n",
    "   my_num = my_num//10\n",
    "   len_val = len_val - 1\n",
    "if(sum_val == num_val):\n",
    "   print(str(num_val) + \" is a disarium number !\")\n",
    "else:\n",
    "   print(str(num_val) + \" isn't a disarium number\")"
   ]
  },
  {
   "cell_type": "code",
   "execution_count": 31,
   "metadata": {},
   "outputs": [],
   "source": [
    "def disarium():\n",
    "    n = input(\"please enter number you want to find disarium  \")\n",
    "    \n",
    "    length = len(n)\n",
    "    print(length)\n",
    "    single_digit = [int(d) for d in str(n)]\n",
    "    print(single_digit)\n",
    "    sum = 0\n",
    "    print(type(single_digit))\n",
    "    temp_list = [1,10,100,1000,10000,100000]\n",
    "    required_list = temp_list[0:length]\n",
    "    print(required_list)\n",
    "    \n",
    "    result = single_digit * required_list\n",
    "    \n",
    "    print(result)\n",
    "    \n",
    "    for num1, num2 in zip(list1, list2):\n",
    "        products.append(num1 * num2)\n",
    "        \n",
    "    \n",
    "    "
   ]
  },
  {
   "cell_type": "code",
   "execution_count": 32,
   "metadata": {},
   "outputs": [
    {
     "name": "stdout",
     "output_type": "stream",
     "text": [
      "please enter number you want to find disarium  987\n",
      "3\n",
      "[9, 8, 7]\n",
      "<class 'list'>\n",
      "[1, 10, 100]\n"
     ]
    },
    {
     "ename": "TypeError",
     "evalue": "can't multiply sequence by non-int of type 'list'",
     "output_type": "error",
     "traceback": [
      "\u001b[0;31m---------------------------------------------------------------------------\u001b[0m",
      "\u001b[0;31mTypeError\u001b[0m                                 Traceback (most recent call last)",
      "\u001b[0;32m/tmp/ipykernel_6998/1834419991.py\u001b[0m in \u001b[0;36m<module>\u001b[0;34m\u001b[0m\n\u001b[0;32m----> 1\u001b[0;31m \u001b[0mdisarium\u001b[0m\u001b[0;34m(\u001b[0m\u001b[0;34m)\u001b[0m\u001b[0;34m\u001b[0m\u001b[0;34m\u001b[0m\u001b[0m\n\u001b[0m",
      "\u001b[0;32m/tmp/ipykernel_6998/826808707.py\u001b[0m in \u001b[0;36mdisarium\u001b[0;34m()\u001b[0m\n\u001b[1;32m     12\u001b[0m     \u001b[0mprint\u001b[0m\u001b[0;34m(\u001b[0m\u001b[0mrequired_list\u001b[0m\u001b[0;34m)\u001b[0m\u001b[0;34m\u001b[0m\u001b[0;34m\u001b[0m\u001b[0m\n\u001b[1;32m     13\u001b[0m \u001b[0;34m\u001b[0m\u001b[0m\n\u001b[0;32m---> 14\u001b[0;31m     \u001b[0mresult\u001b[0m \u001b[0;34m=\u001b[0m \u001b[0msingle_digit\u001b[0m \u001b[0;34m*\u001b[0m \u001b[0mrequired_list\u001b[0m\u001b[0;34m\u001b[0m\u001b[0;34m\u001b[0m\u001b[0m\n\u001b[0m\u001b[1;32m     15\u001b[0m \u001b[0;34m\u001b[0m\u001b[0m\n\u001b[1;32m     16\u001b[0m     \u001b[0mprint\u001b[0m\u001b[0;34m(\u001b[0m\u001b[0mresult\u001b[0m\u001b[0;34m)\u001b[0m\u001b[0;34m\u001b[0m\u001b[0;34m\u001b[0m\u001b[0m\n",
      "\u001b[0;31mTypeError\u001b[0m: can't multiply sequence by non-int of type 'list'"
     ]
    }
   ],
   "source": [
    "disarium()"
   ]
  },
  {
   "cell_type": "code",
   "execution_count": 18,
   "metadata": {},
   "outputs": [
    {
     "ename": "NameError",
     "evalue": "name 'single_digiit' is not defined",
     "output_type": "error",
     "traceback": [
      "\u001b[0;31m---------------------------------------------------------------------------\u001b[0m",
      "\u001b[0;31mNameError\u001b[0m                                 Traceback (most recent call last)",
      "\u001b[0;32m/tmp/ipykernel_6998/2848181885.py\u001b[0m in \u001b[0;36m<module>\u001b[0;34m\u001b[0m\n\u001b[0;32m----> 1\u001b[0;31m \u001b[0msingle_digiit\u001b[0m\u001b[0;34m(\u001b[0m\u001b[0;34m)\u001b[0m\u001b[0;34m\u001b[0m\u001b[0;34m\u001b[0m\u001b[0m\n\u001b[0m",
      "\u001b[0;31mNameError\u001b[0m: name 'single_digiit' is not defined"
     ]
    }
   ],
   "source": []
  },
  {
   "cell_type": "code",
   "execution_count": null,
   "metadata": {},
   "outputs": [],
   "source": []
  }
 ],
 "metadata": {
  "kernelspec": {
   "display_name": "Python 3 (ipykernel)",
   "language": "python",
   "name": "python3"
  },
  "language_info": {
   "codemirror_mode": {
    "name": "ipython",
    "version": 3
   },
   "file_extension": ".py",
   "mimetype": "text/x-python",
   "name": "python",
   "nbconvert_exporter": "python",
   "pygments_lexer": "ipython3",
   "version": "3.8.8"
  }
 },
 "nbformat": 4,
 "nbformat_minor": 4
}
