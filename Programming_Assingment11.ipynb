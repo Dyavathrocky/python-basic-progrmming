{
 "cells": [
  {
   "cell_type": "raw",
   "metadata": {},
   "source": [
    "    1. Write a Python program to find sum of elements in list?\n",
    "    2. Write a Python program to  Multiply all numbers in the list?\n",
    "    3. Write a Python program to find smallest number in a list?\n",
    "    4. Write a Python program to find largest number in a list?\n",
    "    5. Write a Python program to find second largest number in a list?\n",
    "    6. Write a Python program to find N largest elements from a list?\n",
    "    7. Write a Python program to print even numbers in a list?\n",
    "    8. Write a Python program to print odd numbers in a List?\n",
    "    9. Write a Python program to Remove empty List from List?\n",
    "    10. Write a Python program to Cloning or Copying a list?\n",
    "    11. Write a Python program to Count occurrences of an element in a list?"
   ]
  },
  {
   "cell_type": "raw",
   "metadata": {},
   "source": [
    "    1. Write a Python program to find sum of elements in list?"
   ]
  },
  {
   "cell_type": "code",
   "execution_count": 4,
   "metadata": {},
   "outputs": [
    {
     "data": {
      "text/plain": [
       "84"
      ]
     },
     "execution_count": 4,
     "metadata": {},
     "output_type": "execute_result"
    }
   ],
   "source": [
    "a = [1,2,3,4,4,4,4,4,4,43,3,2,2,2,2]\n",
    "total = sum(a)\n",
    "mul = mul\n",
    "total"
   ]
  },
  {
   "cell_type": "code",
   "execution_count": 7,
   "metadata": {},
   "outputs": [
    {
     "name": "stdout",
     "output_type": "stream",
     "text": [
      "final value  50724864\n"
     ]
    }
   ],
   "source": [
    "a = [1,2,3,4,4,4,4,4,4,43,3,2,2,2,2]\n",
    "result = 1\n",
    "for i in a:\n",
    "    result = result * i\n",
    "    #print(\"intermediate value\"  , result)\n",
    "print(\"final value \" ,result)\n",
    "    "
   ]
  },
  {
   "cell_type": "raw",
   "metadata": {},
   "source": [
    "    3. Write a Python program to find smallest number in a list?"
   ]
  },
  {
   "cell_type": "code",
   "execution_count": 19,
   "metadata": {},
   "outputs": [
    {
     "name": "stdout",
     "output_type": "stream",
     "text": [
      "small value is  1\n"
     ]
    }
   ],
   "source": [
    "a = [87, 7,7,7,7,7,7,77777,1,2,3,4,4,4,4,4,4,43,3,2,2,2,2]\n",
    "a.sort()\n",
    "print(\"small value is \", *a[:1])"
   ]
  },
  {
   "cell_type": "code",
   "execution_count": 23,
   "metadata": {},
   "outputs": [
    {
     "name": "stdout",
     "output_type": "stream",
     "text": [
      "gratest value 7766666777\n"
     ]
    }
   ],
   "source": [
    "a = [87, 7,7,7,7,7,7,7766666777,1,2,3,4,4,4,4,4,4,43,3,2,2,2,2]\n",
    "a.sort()\n",
    "print(\"gratest value\", *a[-1:])"
   ]
  },
  {
   "cell_type": "raw",
   "metadata": {},
   "source": [
    "    5. Write a Python program to find second largest number in a list?"
   ]
  },
  {
   "cell_type": "code",
   "execution_count": 24,
   "metadata": {},
   "outputs": [
    {
     "name": "stdout",
     "output_type": "stream",
     "text": [
      "gratest value 87\n"
     ]
    }
   ],
   "source": [
    "a = [87, 7,7,7,7,7,7,7766666777,1,2,3,4,4,4,4,4,4,43,3,2,2,2,2]\n",
    "a.sort()\n",
    "print(\"gratest value\", *a[-2:-1])"
   ]
  },
  {
   "cell_type": "raw",
   "metadata": {},
   "source": [
    "    6. Write a Python program to find N largest elements from a list?"
   ]
  },
  {
   "cell_type": "code",
   "execution_count": null,
   "metadata": {},
   "outputs": [],
   "source": [
    "##need to work on this ....."
   ]
  },
  {
   "cell_type": "raw",
   "metadata": {},
   "source": [
    "    7. Write a Python program to print even numbers in a list?"
   ]
  },
  {
   "cell_type": "code",
   "execution_count": 54,
   "metadata": {},
   "outputs": [
    {
     "name": "stdout",
     "output_type": "stream",
     "text": [
      "[2, 4, 4, 4, 4, 4, 4, 2, 2, 2, 2]\n"
     ]
    }
   ],
   "source": [
    "a = [87, 7,7,7,7,7,7,7766666777,1,2,3,4,4,4,4,4,4,43,3,2,2,2,2]\n",
    "b = []\n",
    "\n",
    "for i in a :\n",
    "    if i%2 == 0 :\n",
    "        b.append(i)\n",
    "print(b)"
   ]
  },
  {
   "cell_type": "raw",
   "metadata": {},
   "source": [
    "    8. Write a Python program to print odd numbers in a List?"
   ]
  },
  {
   "cell_type": "code",
   "execution_count": 55,
   "metadata": {},
   "outputs": [
    {
     "name": "stdout",
     "output_type": "stream",
     "text": [
      "[87, 7, 7, 7, 7, 7, 7, 7766666777, 1, 3, 43, 3]\n"
     ]
    }
   ],
   "source": [
    "a = [87, 7,7,7,7,7,7,7766666777,1,2,3,4,4,4,4,4,4,43,3,2,2,2,2]\n",
    "b = []\n",
    "\n",
    "for i in a :\n",
    "    if i%2 != 0 :\n",
    "        b.append(i)\n",
    "print(b)"
   ]
  },
  {
   "cell_type": "raw",
   "metadata": {},
   "source": [
    "    9. Write a Python program to Remove empty List from List?"
   ]
  },
  {
   "cell_type": "raw",
   "metadata": {},
   "source": [
    "    10. Write a Python program to Cloning or Copying a list?"
   ]
  },
  {
   "cell_type": "code",
   "execution_count": 61,
   "metadata": {},
   "outputs": [
    {
     "name": "stdout",
     "output_type": "stream",
     "text": [
      "[87, 7, 7, 7, 7, 7, 7, 7766666777, 1, 2, 3, 4, 4, 4, 4, 4, 4, 43, 3, 2, 2, 2, 2]\n"
     ]
    }
   ],
   "source": [
    "a = [87, 7,7,7,7,7,7,7766666777,1,2,3,4,4,4,4,4,4,43,3,2,2,2,2]\n",
    "b = a[:]\n",
    "print(b)\n",
    "\n",
    "#there are various tyepes of copy methods..."
   ]
  },
  {
   "cell_type": "code",
   "execution_count": 60,
   "metadata": {},
   "outputs": [
    {
     "name": "stdout",
     "output_type": "stream",
     "text": [
      "[87, 7, 7, 7, 7, 7, 7, 7766666777, 1, 2, 3, 4, 4, 4, 4, 4, 4, 43, 3, 2, 2, 2, 2]\n"
     ]
    }
   ],
   "source": []
  },
  {
   "cell_type": "raw",
   "metadata": {},
   "source": [
    "    11. Write a Python program to Count occurrences of an element in a list?"
   ]
  },
  {
   "cell_type": "code",
   "execution_count": 73,
   "metadata": {},
   "outputs": [],
   "source": [
    "a = [87, 7,7,7,7,7,7,7766666777,1,2,3,4,4,4,4,4,4,43,3,2,2,2,2]"
   ]
  },
  {
   "cell_type": "code",
   "execution_count": 74,
   "metadata": {},
   "outputs": [
    {
     "data": {
      "text/plain": [
       "{1, 2, 3, 4, 7, 43, 87, 7766666777}"
      ]
     },
     "execution_count": 74,
     "metadata": {},
     "output_type": "execute_result"
    }
   ],
   "source": [
    "set(a)"
   ]
  },
  {
   "cell_type": "code",
   "execution_count": 75,
   "metadata": {},
   "outputs": [
    {
     "data": {
      "text/plain": [
       "list"
      ]
     },
     "execution_count": 75,
     "metadata": {},
     "output_type": "execute_result"
    }
   ],
   "source": [
    "for i in "
   ]
  },
  {
   "cell_type": "code",
   "execution_count": null,
   "metadata": {},
   "outputs": [],
   "source": []
  }
 ],
 "metadata": {
  "kernelspec": {
   "display_name": "Python 3",
   "language": "python",
   "name": "python3"
  },
  "language_info": {
   "codemirror_mode": {
    "name": "ipython",
    "version": 3
   },
   "file_extension": ".py",
   "mimetype": "text/x-python",
   "name": "python",
   "nbconvert_exporter": "python",
   "pygments_lexer": "ipython3",
   "version": "3.8.5"
  }
 },
 "nbformat": 4,
 "nbformat_minor": 4
}
