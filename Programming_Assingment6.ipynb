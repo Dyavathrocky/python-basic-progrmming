{
 "cells": [
  {
   "cell_type": "raw",
   "metadata": {},
   "source": [
    "    1. Write a Python Program to Display Fibonacci Sequence Using Recursion?\n",
    "    2. Write a Python Program to Find Factorial of Number Using Recursion?\n",
    "    3. Write a Python Program to calculate your Body Mass Index?\n",
    "    4. Write a Python Program to calculate the natural logarithm of any number?\n",
    "    5. Write a Python Program for cube sum of first n natural numbers?"
   ]
  }
 ],
 "metadata": {
  "kernelspec": {
   "display_name": "Python 3",
   "language": "python",
   "name": "python3"
  },
  "language_info": {
   "codemirror_mode": {
    "name": "ipython",
    "version": 3
   },
   "file_extension": ".py",
   "mimetype": "text/x-python",
   "name": "python",
   "nbconvert_exporter": "python",
   "pygments_lexer": "ipython3",
   "version": "3.8.5"
  }
 },
 "nbformat": 4,
 "nbformat_minor": 4
}
