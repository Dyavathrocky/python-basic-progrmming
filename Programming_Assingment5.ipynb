{
 "cells": [
  {
   "cell_type": "raw",
   "metadata": {},
   "source": [
    "    1. Write a Python Program to Find LCM?\n",
    "    2. Write a Python Program to Find HCF?\n",
    "    3. Write a Python Program to Convert Decimal to Binary, Octal and Hexadecimal?\n",
    "    4. Write a Python Program To Find ASCII value of a character?\n",
    "    5. Write a Python Program to Make a Simple Calculator with 4 basic mathematical operations?"
   ]
  },
  {
   "cell_type": "raw",
   "metadata": {},
   "source": [
    "    1. Write a Python Program to Find LCM?"
   ]
  },
  {
   "cell_type": "code",
   "execution_count": 9,
   "metadata": {},
   "outputs": [],
   "source": [
    "def lcm():\n",
    "    num1 = int(input(\"Please enter the num1 you want to find LCM   num1 = \"))\n",
    "    num2 = int(input(\"Please enter the num1 you want to find LCM   num2 = \"))\n",
    "    a = []\n",
    "    \n",
    "    if num1 > num2 :\n",
    "        greater = num1\n",
    "    else:\n",
    "        greater = num2\n",
    "        \n",
    "    while(True):\n",
    "        #print(\"greater value \", greater)\n",
    "        if((greater % num1 == 0) and (greater % num2 == 0)):\n",
    "            lcm = greater\n",
    "            #a.append(greater)\n",
    "            break\n",
    "        greater += 1\n",
    "        \n",
    "    return lcm"
   ]
  },
  {
   "cell_type": "code",
   "execution_count": 10,
   "metadata": {},
   "outputs": [
    {
     "name": "stdout",
     "output_type": "stream",
     "text": [
      "Please enter the num1 you want to find LCM   num1 = 6\n",
      "Please enter the num1 you want to find LCM   num2 = 6\n"
     ]
    },
    {
     "data": {
      "text/plain": [
       "6"
      ]
     },
     "execution_count": 10,
     "metadata": {},
     "output_type": "execute_result"
    }
   ],
   "source": [
    "lcm()"
   ]
  },
  {
   "cell_type": "raw",
   "metadata": {},
   "source": [
    "    2. Write a Python Program to Find HCF?"
   ]
  },
  {
   "cell_type": "code",
   "execution_count": 11,
   "metadata": {},
   "outputs": [
    {
     "name": "stdout",
     "output_type": "stream",
     "text": [
      "Please enter the num1 you want to find HCF   num1 = 6\n",
      "Please enter the num1 you want to find HCF   num2 = 9\n",
      "HCF of given two numbers is   3\n"
     ]
    }
   ],
   "source": [
    "def hcf():\n",
    "    num1 = int(input(\"Please enter the num1 you want to find HCF   num1 = \"))\n",
    "    num2 = int(input(\"Please enter the num1 you want to find HCF   num2 = \"))\n",
    "    a = []\n",
    "    \n",
    "    if num1 > num2 :\n",
    "        small = num2\n",
    "    else :\n",
    "        small = num1\n",
    "        \n",
    "    for i in range(1, (small+1)):\n",
    "        if((num1 % i == 0) and (num2 % i ==0)):\n",
    "            hcf = i\n",
    "    return hcf\n",
    "\n",
    "print(\"HCF of given two numbers is  \", hcf())\n",
    "                "
   ]
  },
  {
   "cell_type": "code",
   "execution_count": 12,
   "metadata": {},
   "outputs": [
    {
     "name": "stdout",
     "output_type": "stream",
     "text": [
      "Please enter the num1 you want to find HCF   num1 = 8\n",
      "Please enter the num1 you want to find HCF   num2 = 6\n"
     ]
    },
    {
     "data": {
      "text/plain": [
       "2"
      ]
     },
     "execution_count": 12,
     "metadata": {},
     "output_type": "execute_result"
    }
   ],
   "source": [
    "hcf()"
   ]
  },
  {
   "cell_type": "raw",
   "metadata": {},
   "source": [
    "    3. Write a Python Program to Convert Decimal to Binary, Octal and Hexadecimal?"
   ]
  },
  {
   "cell_type": "code",
   "execution_count": 13,
   "metadata": {},
   "outputs": [],
   "source": [
    "def convertion():\n",
    "    x = int(input(\"Please enter the decimal which you want to convert in to Binary , octal, hexadecimal   \"))\n",
    "    \n",
    "    print(\"Hexa decimal value of given decimal value  \" , hex(x))\n",
    "    print(\"octal value of given decimal value\" , oct(x))\n",
    "    print(\"Binary value of given binary value  \", bin(x))"
   ]
  },
  {
   "cell_type": "code",
   "execution_count": 14,
   "metadata": {},
   "outputs": [
    {
     "name": "stdout",
     "output_type": "stream",
     "text": [
      "Please enter the decimal which you want to convert in to Binary , octal, hexadecimal   6\n",
      "Hexa decimal value of given decimal value   0x6\n",
      "octal value of given decimal value 0o6\n",
      "Binary value of given binary value   0b110\n"
     ]
    }
   ],
   "source": [
    "convertion()"
   ]
  },
  {
   "cell_type": "raw",
   "metadata": {},
   "source": [
    "    4. Write a Python Program To Find ASCII value of a character?"
   ]
  },
  {
   "cell_type": "code",
   "execution_count": 15,
   "metadata": {},
   "outputs": [
    {
     "name": "stdout",
     "output_type": "stream",
     "text": [
      "Your value here: 99\n",
      "[57, 57]\n"
     ]
    }
   ],
   "source": [
    "value = input(\"Your value here: \")\n",
    "list=[ord(ch) for ch in value]\n",
    "print(list)"
   ]
  },
  {
   "cell_type": "code",
   "execution_count": 16,
   "metadata": {},
   "outputs": [],
   "source": [
    "def Asc():\n",
    "    x = input(\"Enter char or string value to know Ascii value   \")\n",
    "    if type(x)==str:\n",
    "        list=[ord(ch) for ch in x]\n",
    "        print(list)"
   ]
  },
  {
   "cell_type": "code",
   "execution_count": 17,
   "metadata": {},
   "outputs": [
    {
     "name": "stdout",
     "output_type": "stream",
     "text": [
      "Enter char or string value to know Ascii value   99\n",
      "[57, 57]\n"
     ]
    }
   ],
   "source": [
    "Asc()"
   ]
  },
  {
   "cell_type": "raw",
   "metadata": {},
   "source": [
    "    5. Write a Python Program to Make a Simple Calculator with 4 basic mathematical operations?"
   ]
  },
  {
   "cell_type": "code",
   "execution_count": 18,
   "metadata": {},
   "outputs": [],
   "source": [
    "def cal(): \n",
    "    num1 = int(input(\"Please enter the first number in calculation \"))\n",
    "    num2 = int(input(\"Please enter the second number in calculation \"))\n",
    "    while(True):\n",
    "        #print(\"Please enter operation type \\n add 1 \\n subtract 2 \\n mulitply 3 \\n divide 4\")\n",
    "        x = int(input(\"Please enter operation type \\n exit 0 \\n add 1 \\n subtract 2 \\n mulitply 3 \\n divide 4   \\n\"))\n",
    "        \n",
    "        if x == 1 :\n",
    "            print(num1 + num2)\n",
    "        elif x == 2 :\n",
    "            print (num1 - num2)\n",
    "        elif x == 3:\n",
    "            print(num1*num2)\n",
    "        elif x == 4 :\n",
    "            print(num1/num2)\n",
    "        elif  x ==0:\n",
    "            break\n",
    "        else :\n",
    "            print(\"please enter valid commoand , if you want to quit Please press 0\")\n",
    "            \n",
    "            \n",
    "        "
   ]
  },
  {
   "cell_type": "code",
   "execution_count": null,
   "metadata": {},
   "outputs": [
    {
     "name": "stdout",
     "output_type": "stream",
     "text": [
      "Please enter the first number in calculation 9\n",
      "Please enter the second number in calculation 6\n"
     ]
    }
   ],
   "source": [
    "cal()"
   ]
  },
  {
   "cell_type": "code",
   "execution_count": null,
   "metadata": {},
   "outputs": [],
   "source": []
  }
 ],
 "metadata": {
  "kernelspec": {
   "display_name": "Python 3 (ipykernel)",
   "language": "python",
   "name": "python3"
  },
  "language_info": {
   "codemirror_mode": {
    "name": "ipython",
    "version": 3
   },
   "file_extension": ".py",
   "mimetype": "text/x-python",
   "name": "python",
   "nbconvert_exporter": "python",
   "pygments_lexer": "ipython3",
   "version": "3.8.8"
  }
 },
 "nbformat": 4,
 "nbformat_minor": 4
}
