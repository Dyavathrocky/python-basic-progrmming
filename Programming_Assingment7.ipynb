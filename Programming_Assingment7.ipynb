{
 "cells": [
  {
   "cell_type": "raw",
   "metadata": {},
   "source": [
    "    1. Write a Python Program to find sum of array?\n",
    "    2. Write a Python Program to find largest element in an array?\n",
    "    3. Write a Python Program for array rotation?\n",
    "    4. Write a Python Program to Split the array and add the first part to the end?\n",
    "    5. Write a Python Program to check if given array is Monotonic?"
   ]
  },
  {
   "cell_type": "code",
   "execution_count": 3,
   "metadata": {},
   "outputs": [
    {
     "name": "stdout",
     "output_type": "stream",
     "text": [
      "Enter the size of the array: 4\n",
      "Enter array elements: \n",
      "8\n",
      "9\n",
      "6\n",
      "5\n",
      "Sum: 28\n"
     ]
    }
   ],
   "source": [
    "lst = []\n",
    "num = int(input(\"Enter the size of the array: \"))\n",
    "print(\"Enter array elements: \")\n",
    "for n in range(num):\n",
    "  numbers = int(input())\n",
    "  lst.append(numbers)\n",
    "print(\"Sum:\", sum(lst))\n"
   ]
  },
  {
   "cell_type": "raw",
   "metadata": {},
   "source": [
    "  2. Write a Python Program to find largest element in an array?"
   ]
  },
  {
   "cell_type": "code",
   "execution_count": 4,
   "metadata": {},
   "outputs": [
    {
     "name": "stdout",
     "output_type": "stream",
     "text": [
      "Enter size of the list4\n",
      "enter array elements\n",
      "9\n",
      "8\n",
      "8\n",
      "88\n",
      "total elements in the list [9, 8, 8, 88]\n",
      "Maximum value in given list is 88\n"
     ]
    }
   ],
   "source": [
    "lst = []\n",
    "elemets_total = int(input(\"Enter size of the list\"))\n",
    "print(\"enter array elements\")\n",
    "\n",
    "for i in range(elemets_total):\n",
    "    elemets = int(input())\n",
    "    lst.append(elemets)\n",
    "print(\"total elements in the list\" , lst)\n",
    "print(\"Maximum value in given list is\" , max(lst))"
   ]
  },
  {
   "cell_type": "code",
   "execution_count": 5,
   "metadata": {},
   "outputs": [],
   "source": [
    "#maximum element using for loop \n",
    "def mx_value():\n",
    "    lst = []\n",
    "    elemets_total = int(input(\"Enter size of the list\"))\n",
    "    print(\"enter array elements\")\n",
    "\n",
    "    for i in range(elemets_total):\n",
    "        elemets = int(input())\n",
    "        lst.append(elemets)\n",
    "    print(\"total elements in the list\" , lst)\n",
    "\n",
    "    high = lst[0]\n",
    "\n",
    "    for i in lst:\n",
    "        if i > high :\n",
    "            high = i\n",
    "    print(\"high value in the list is\" ,  high)\n",
    "    return high\n",
    "    \n"
   ]
  },
  {
   "cell_type": "code",
   "execution_count": 6,
   "metadata": {},
   "outputs": [
    {
     "name": "stdout",
     "output_type": "stream",
     "text": [
      "Enter size of the list7\n",
      "enter array elements\n",
      "5\n",
      "6\n",
      "7\n",
      "8\n",
      "8\n",
      "4\n",
      "5\n",
      "total elements in the list [5, 6, 7, 8, 8, 4, 5]\n",
      "high value in the list is 8\n"
     ]
    },
    {
     "data": {
      "text/plain": [
       "8"
      ]
     },
     "execution_count": 6,
     "metadata": {},
     "output_type": "execute_result"
    }
   ],
   "source": [
    "mx_value()"
   ]
  },
  {
   "cell_type": "raw",
   "metadata": {},
   "source": [
    " 3. Write a Python Program for array rotation?"
   ]
  },
  {
   "cell_type": "code",
   "execution_count": 7,
   "metadata": {},
   "outputs": [],
   "source": [
    "#using slicing operation\n",
    "\n",
    "def list_reverse_value():\n",
    "    lst = []\n",
    "    elemets_total = int(input(\"Enter size of the list\"))\n",
    "    print(\"enter array elements\")\n",
    "\n",
    "    for i in range(elemets_total):\n",
    "        elemets = int(input())\n",
    "        lst.append(elemets)\n",
    "    print(\"Given list\" , lst)\n",
    "    \n",
    "    a = lst[::-1]\n",
    "    print(\"Reversed string \", a)\n",
    "    \n",
    "    lst.reverse()\n",
    "    print(\"using reverse statement \", lst)\n"
   ]
  },
  {
   "cell_type": "code",
   "execution_count": 9,
   "metadata": {},
   "outputs": [
    {
     "name": "stdout",
     "output_type": "stream",
     "text": [
      "Enter size of the list6\n",
      "enter array elements\n",
      "4\n",
      "5\n",
      "6\n",
      "7\n",
      "7\n",
      "8\n",
      "Given list [4, 5, 6, 7, 7, 8]\n",
      "Reversed string  [8, 7, 7, 6, 5, 4]\n",
      "using reverse statement  [8, 7, 7, 6, 5, 4]\n"
     ]
    }
   ],
   "source": [
    "list_reverse_value()"
   ]
  },
  {
   "cell_type": "raw",
   "metadata": {},
   "source": [
    "3Write a Python Program to Split the array and add the first part to the end?"
   ]
  },
  {
   "cell_type": "code",
   "execution_count": 10,
   "metadata": {},
   "outputs": [],
   "source": [
    "def split_add():\n",
    "    lst = []\n",
    "    elemets_total = int(input(\"Enter size of the list\"))\n",
    "    print(\"enter array elements\")\n",
    "\n",
    "    for i in range(elemets_total):\n",
    "        elemets = int(input())\n",
    "        lst.append(elemets)\n",
    "    print(\"Given list\" , lst)\n",
    "    \n",
    "    first = lst[(int(len(lst)/2)):len(lst):1]\n",
    "    second = lst[0:(int(len(lst)/2)):1]\n",
    "    a = []\n",
    "    for i in first:\n",
    "        a.append(i)\n",
    "\n",
    "    for i in second:\n",
    "        a.append(i)\n",
    "        \n",
    "    print(\"Split the array and add the first part to the end\" , a)\n",
    "    "
   ]
  },
  {
   "cell_type": "code",
   "execution_count": 12,
   "metadata": {},
   "outputs": [
    {
     "name": "stdout",
     "output_type": "stream",
     "text": [
      "Enter size of the list9\n",
      "enter array elements\n",
      "6\n",
      "6\n",
      "6\n",
      "6\n",
      "6\n",
      "6\n",
      "6\n",
      "6\n",
      "6\n",
      "Given list [6, 6, 6, 6, 6, 6, 6, 6, 6]\n",
      "Split the array and add the first part to the end [6, 6, 6, 6, 6, 6, 6, 6, 6]\n"
     ]
    }
   ],
   "source": [
    "split_add()\n",
    "\n",
    "# if the elemetns odd: [0,1,2]>>[1,2,0] :"
   ]
  },
  {
   "cell_type": "raw",
   "metadata": {},
   "source": [
    "    5. Write a Python Program to check if given array is Monotonic?"
   ]
  },
  {
   "cell_type": "code",
   "execution_count": 100,
   "metadata": {},
   "outputs": [],
   "source": [
    "\n",
    "def monotonic_check():\n",
    "    \n",
    "    lst = []\n",
    "    elemets_total = int(input(\"Enter size of the list\"))\n",
    "    print(\"enter array elements\")\n",
    "\n",
    "    for i in range(elemets_total):\n",
    "        elemets = int(input())\n",
    "        lst.append(elemets)\n",
    "    print(\"Given list\" , lst)\n",
    "    \n",
    "    return (all(lst[i] <= lst[i + 1] for i in range(len(lst) - 1)) or\n",
    "          all(lst[i] >= lst[i + 1] for i in range(len(lst) - 1)))\n",
    "\n"
   ]
  },
  {
   "cell_type": "code",
   "execution_count": 101,
   "metadata": {},
   "outputs": [
    {
     "name": "stdout",
     "output_type": "stream",
     "text": [
      "Enter size of the list5\n",
      "enter array elements\n",
      "1\n",
      "2\n",
      "3\n",
      "4\n",
      "2\n",
      "Given list [1, 2, 3, 4, 2]\n"
     ]
    },
    {
     "data": {
      "text/plain": [
       "False"
      ]
     },
     "execution_count": 101,
     "metadata": {},
     "output_type": "execute_result"
    }
   ],
   "source": [
    "monotonic_check()"
   ]
  },
  {
   "cell_type": "code",
   "execution_count": null,
   "metadata": {},
   "outputs": [],
   "source": []
  }
 ],
 "metadata": {
  "kernelspec": {
   "display_name": "Python 3 (ipykernel)",
   "language": "python",
   "name": "python3"
  },
  "language_info": {
   "codemirror_mode": {
    "name": "ipython",
    "version": 3
   },
   "file_extension": ".py",
   "mimetype": "text/x-python",
   "name": "python",
   "nbconvert_exporter": "python",
   "pygments_lexer": "ipython3",
   "version": "3.8.8"
  }
 },
 "nbformat": 4,
 "nbformat_minor": 4
}
