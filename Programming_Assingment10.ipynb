{
 "cells": [
  {
   "cell_type": "raw",
   "id": "60150e85",
   "metadata": {},
   "source": [
    "    1. Write a Python program to find sum of elements in list?\n",
    "    2. Write a Python program to  Multiply all numbers in the list?\n",
    "    3. Write a Python program to find smallest number in a list?\n",
    "    4. Write a Python program to find largest number in a list?\n",
    "    5. Write a Python program to find second largest number in a list?\n",
    "    6. Write a Python program to find N largest elements from a list?\n",
    "    7. Write a Python program to print even numbers in a list?\n",
    "    8. Write a Python program to print odd numbers in a List?\n",
    "    9. Write a Python program to Remove empty List from List?\n",
    "    10. Write a Python program to Cloning or Copying a list?\n",
    "    11. Write a Python program to Count occurrences of an element in a list?"
   ]
  },
  {
   "cell_type": "code",
   "execution_count": 3,
   "id": "713f1313",
   "metadata": {},
   "outputs": [
    {
     "data": {
      "text/plain": [
       "91"
      ]
     },
     "execution_count": 3,
     "metadata": {},
     "output_type": "execute_result"
    }
   ],
   "source": [
    "#1\n",
    "li = [1,2,3,4,5,6,7,7,7,49]\n",
    "sum_li = sum(li)\n",
    "sum_li"
   ]
  },
  {
   "cell_type": "code",
   "execution_count": 8,
   "id": "2657d880",
   "metadata": {},
   "outputs": [
    {
     "name": "stdout",
     "output_type": "stream",
     "text": [
      "5904\n"
     ]
    }
   ],
   "source": [
    "#2\n",
    "li = [1,2,3,8,123]\n",
    "result = 1\n",
    "for i in li:\n",
    "    result = result*i\n",
    "print(result)"
   ]
  },
  {
   "cell_type": "code",
   "execution_count": 13,
   "id": "9d2af48a",
   "metadata": {},
   "outputs": [
    {
     "data": {
      "text/plain": [
       "1"
      ]
     },
     "execution_count": 13,
     "metadata": {},
     "output_type": "execute_result"
    }
   ],
   "source": [
    "#3 minimum\n",
    "li = [4,5,6,7,7,7,7,2,1,4,9860958]\n",
    "min_li = min(li)\n",
    "min_li"
   ]
  },
  {
   "cell_type": "code",
   "execution_count": 14,
   "id": "4ea6b26e",
   "metadata": {},
   "outputs": [
    {
     "data": {
      "text/plain": [
       "9860958"
      ]
     },
     "execution_count": 14,
     "metadata": {},
     "output_type": "execute_result"
    }
   ],
   "source": [
    "#4 maximum\n",
    "li = [4,5,6,7,7,7,7,2,1,4,9860958]\n",
    "max_li = max(li)\n",
    "max_li"
   ]
  },
  {
   "cell_type": "code",
   "execution_count": 26,
   "id": "06170918",
   "metadata": {},
   "outputs": [
    {
     "data": {
      "text/plain": [
       "7"
      ]
     },
     "execution_count": 26,
     "metadata": {},
     "output_type": "execute_result"
    }
   ],
   "source": [
    "#5 second largest\n",
    "li = [4,5,6,7,7,7,7,2,1,4,9860958]\n",
    "second_large=sorted(li)\n",
    "second_large[-2]"
   ]
  },
  {
   "cell_type": "code",
   "execution_count": null,
   "id": "9c6b5d6a",
   "metadata": {},
   "outputs": [],
   "source": []
  }
 ],
 "metadata": {
  "kernelspec": {
   "display_name": "Python 3 (ipykernel)",
   "language": "python",
   "name": "python3"
  },
  "language_info": {
   "codemirror_mode": {
    "name": "ipython",
    "version": 3
   },
   "file_extension": ".py",
   "mimetype": "text/x-python",
   "name": "python",
   "nbconvert_exporter": "python",
   "pygments_lexer": "ipython3",
   "version": "3.8.8"
  }
 },
 "nbformat": 4,
 "nbformat_minor": 5
}
