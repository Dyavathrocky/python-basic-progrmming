{
 "cells": [
  {
   "cell_type": "raw",
   "metadata": {},
   "source": [
    "    1. Write a Python Program to Find the Factorial of a Number?\n",
    "    2. Write a Python Program to Display the multiplication Table?\n",
    "    3. Write a Python Program to Print the Fibonacci sequence?\n",
    "    4. Write a Python Program to Check Armstrong Number?\n",
    "    5. Write a Python Program to Find Armstrong Number in an Interval?\n",
    "    6. Write a Python Program to Find the Sum of Natural Numbers?"
   ]
  },
  {
   "cell_type": "raw",
   "metadata": {},
   "source": [
    "    1. Write a Python Program to Find the Factorial of a Number?"
   ]
  },
  {
   "cell_type": "code",
   "execution_count": null,
   "metadata": {},
   "outputs": [],
   "source": [
    "def fact():\n",
    "    x = int(input(\"enter number to find factorial of number  \"))\n",
    "    factorial = 1\n",
    "    if x < 0 :\n",
    "        print(\"factorial doesnt exist for negtive numbers\")\n",
    "    elif x == 0:\n",
    "        print(\"we dont have factorial for 0\")\n",
    "    else :\n",
    "        for i in range(1, (x+1)):\n",
    "            factorial = factorial*i\n",
    "        print(\"factorial of \",x,\"  is \", factorial )"
   ]
  },
  {
   "cell_type": "code",
   "execution_count": null,
   "metadata": {},
   "outputs": [],
   "source": [
    "fact()"
   ]
  },
  {
   "cell_type": "raw",
   "metadata": {},
   "source": [
    "    2. Write a Python Program to Display the multiplication Table?"
   ]
  },
  {
   "cell_type": "code",
   "execution_count": null,
   "metadata": {},
   "outputs": [],
   "source": [
    "def multiplication_table():\n",
    "    x = int(input(\"enter number which you want to check multiplication table\"))\n",
    "    for i in range(1,11):\n",
    "        print(x,\" x \",i,\" = \",x*i)"
   ]
  },
  {
   "cell_type": "code",
   "execution_count": null,
   "metadata": {},
   "outputs": [],
   "source": [
    "multiplication_table()"
   ]
  },
  {
   "cell_type": "raw",
   "metadata": {},
   "source": [
    "    3. Write a Python Program to Print the Fibonacci sequence?"
   ]
  },
  {
   "cell_type": "code",
   "execution_count": 11,
   "metadata": {},
   "outputs": [],
   "source": [
    "#0 , 1 , 1,2, 3,5,8,13\n",
    "def fib():\n",
    "    xterms  = int(input(\"Please let us know until how many terms you require fibanaci series  \"))\n",
    "    x1 , x2 = 0 ,1\n",
    "    count = 0\n",
    "    \n",
    "    if xterms == 1:\n",
    "        print(\"fibanici seriers upto xtermas\")\n",
    "        print(x1)\n",
    "    elif xterms <= 0:\n",
    "        print(\"please enter postive value which is graterthen 0 to check fibanci series\")\n",
    "    else:\n",
    "        print(\"fibanaci sequence\")\n",
    "        while count < xterms :\n",
    "            print(x1)\n",
    "            xth = x1 +x2\n",
    "            x1 = x2\n",
    "            x2 = xth\n",
    "            count += 1\n",
    "            "
   ]
  },
  {
   "cell_type": "code",
   "execution_count": 12,
   "metadata": {},
   "outputs": [
    {
     "name": "stdout",
     "output_type": "stream",
     "text": [
      "Please let us know until how many terms you require fibanaci series  8\n",
      "fibanaci sequence\n",
      "0\n",
      "1\n",
      "1\n",
      "2\n",
      "3\n",
      "5\n",
      "8\n",
      "13\n"
     ]
    }
   ],
   "source": [
    "fib()"
   ]
  },
  {
   "cell_type": "raw",
   "metadata": {},
   "source": [
    "    4. Write a Python Program to Check Armstrong Number?"
   ]
  },
  {
   "cell_type": "code",
   "execution_count": 9,
   "metadata": {},
   "outputs": [],
   "source": [
    "#153 = 1*1*1 + 5*5*5 + 3*3*3  // 153 is an Armstrong number.\n",
    "\n",
    "def armstrong():\n",
    "    num = int(input(\"Please enter the number which need to check Armstrong number or not    \"))\n",
    "    \n",
    "    total = 0\n",
    "    \n",
    "    temp = num\n",
    "    \n",
    "    while temp > 0 :\n",
    "        digit = temp % 10\n",
    "        print(digit)\n",
    "        total += digit ** 3\n",
    "        #print(total)\n",
    "        temp //= 10\n",
    "        #print(temp)\n",
    "        \n",
    "    if num==total:\n",
    "        print(num, \"is an armstrong number\")\n",
    "    else :\n",
    "        print(num, \"is not armstrong number\")"
   ]
  },
  {
   "cell_type": "code",
   "execution_count": 10,
   "metadata": {},
   "outputs": [
    {
     "name": "stdout",
     "output_type": "stream",
     "text": [
      "Please enter the number which need to check Armstrong number or not    153\n",
      "3\n",
      "5\n",
      "1\n",
      "153 is an armstrong number\n"
     ]
    }
   ],
   "source": [
    "armstrong()"
   ]
  },
  {
   "cell_type": "raw",
   "metadata": {},
   "source": [
    "    5. Write a Python Program to Find Armstrong Number in an Interval?"
   ]
  },
  {
   "cell_type": "code",
   "execution_count": 28,
   "metadata": {},
   "outputs": [],
   "source": [
    "def armstrong1():\n",
    "    #num = int(input(\"Please enter the number which need to check Armstrong number or not    \"))\n",
    "    n1 = int(input(\"lower limit number   \"))\n",
    "    n2 = int(input(\"upper limit number   \"))\n",
    "    a = []\n",
    "    \n",
    "    for i in range(n1, (n2+1)):\n",
    "        order = len(str(i))\n",
    "        total = 0\n",
    "        temp = i\n",
    "    \n",
    "        while temp > 0 :\n",
    "            digit = temp % 10\n",
    "            #print(digit)\n",
    "            total += digit ** order\n",
    "            #print(total)\n",
    "            temp //= 10\n",
    "            #print(temp)\n",
    "        \n",
    "        if i==total:\n",
    "            #print(i, \"is an armstrong number\")\n",
    "            a.append(i)\n",
    "        else :\n",
    "            pass\n",
    "            #print(i, \"is not armstrong number\")\n",
    "    print(a)"
   ]
  },
  {
   "cell_type": "code",
   "execution_count": 29,
   "metadata": {},
   "outputs": [
    {
     "name": "stdout",
     "output_type": "stream",
     "text": [
      "lower limit number   1\n",
      "upper limit number   100000\n",
      "[1, 2, 3, 4, 5, 6, 7, 8, 9, 153, 370, 371, 407, 1634, 8208, 9474, 54748, 92727, 93084]\n"
     ]
    }
   ],
   "source": [
    "armstrong1()"
   ]
  },
  {
   "cell_type": "raw",
   "metadata": {},
   "source": [
    "  6. Write a Python Program to Find the Sum of Natural Numbers?"
   ]
  },
  {
   "cell_type": "code",
   "execution_count": 40,
   "metadata": {},
   "outputs": [],
   "source": [
    "#n*(n+1)/2\n",
    "\n",
    "#using math formula\n",
    "\n",
    "def math_natural():\n",
    "    n = int(input(\"enter the number until which number you required sum   \"))\n",
    "    \n",
    "    a = int(((n*(n+1)/2)))\n",
    "    print(a)\n",
    "    \n",
    "# using python\n",
    "\n",
    "def sum_natural():\n",
    "    n = int(input(\"enter the number until which number you required sum   \"))\n",
    "    sum = 0\n",
    "    \n",
    "    for i in range(1, (n+1)):\n",
    "        sum = sum + i\n",
    "    print(sum)"
   ]
  },
  {
   "cell_type": "code",
   "execution_count": 42,
   "metadata": {},
   "outputs": [
    {
     "name": "stdout",
     "output_type": "stream",
     "text": [
      "enter the number until which number you required sum   4\n",
      "10\n"
     ]
    }
   ],
   "source": [
    "sum_natural()"
   ]
  },
  {
   "cell_type": "code",
   "execution_count": null,
   "metadata": {},
   "outputs": [],
   "source": []
  }
 ],
 "metadata": {
  "kernelspec": {
   "display_name": "Python 3",
   "language": "python",
   "name": "python3"
  },
  "language_info": {
   "codemirror_mode": {
    "name": "ipython",
    "version": 3
   },
   "file_extension": ".py",
   "mimetype": "text/x-python",
   "name": "python",
   "nbconvert_exporter": "python",
   "pygments_lexer": "ipython3",
   "version": "3.8.5"
  }
 },
 "nbformat": 4,
 "nbformat_minor": 4
}
