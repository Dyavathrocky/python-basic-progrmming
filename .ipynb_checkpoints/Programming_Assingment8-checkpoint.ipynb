{
 "cells": [
  {
   "cell_type": "raw",
   "metadata": {},
   "source": [
    "    1. Write a Python Program to Add Two Matrices?\n",
    "    2. Write a Python Program to Multiply Two Matrices?\n",
    "    3. Write a Python Program to Transpose a Matrix?\n",
    "    4. Write a Python Program to Sort Words in Alphabetic Order?\n",
    "    5. Write a Python Program to Remove Punctuation From a String?"
   ]
  },
  {
   "cell_type": "raw",
   "metadata": {},
   "source": [
    " 1. Write a Python Program to Add Two Matrices?"
   ]
  },
  {
   "cell_type": "code",
   "execution_count": 2,
   "metadata": {},
   "outputs": [
    {
     "name": "stdout",
     "output_type": "stream",
     "text": [
      "Enter N for N x N matrix to find addtion of two matrices : 2\n",
      "Enter the elements for A ::>\n",
      "1\n",
      "1\n",
      "1\n",
      "1\n",
      "[[1, 1], [1, 1]]\n",
      "Enter the elements for B ::>\n",
      "1\n",
      "1\n",
      "1\n",
      "1\n",
      "Given matrix B [[1, 1], [1, 1]]\n",
      "[[2, 2], [2, 2]]\n",
      "2 2 \n",
      "2 2 \n"
     ]
    }
   ],
   "source": [
    "A=[]\n",
    "n=int(input(\"Enter N for N x N matrix to find addtion of two matrices : \"))         \n",
    "print(\"Enter the elements for A ::>\")\n",
    "for i in range(n): \n",
    "    row=[]                                        \n",
    "    for j in range(n): \n",
    "        row.append(int(input()))                \n",
    "    A.append(row)                               \n",
    "print(A)\n",
    "\n",
    "B = []\n",
    "#n=int(input(\"Matrix B for N x N matrix : \"))         \n",
    "print(\"Enter the elements for B ::>\")\n",
    "for i in range(n): \n",
    "    row=[]                                        \n",
    "    for j in range(n): \n",
    "        row.append(int(input()))                \n",
    "    B.append(row)                               \n",
    "print(\"Given matrix B\" , B)\n",
    "\n",
    "\"\"\"\"A = [ [2, 1, 3], [3, 1, 5], [3, 1, 5] ]\n",
    "B = [ [1, 4, 2], [5, 2, 0] , [5, 2, 0]]\"\"\"\n",
    "\n",
    "C = [[0 for i in range(len(A[0]))] for j in range(len(A))]\n",
    "\n",
    "for i in range(len(A)):\n",
    "    for j in range(len(A[0])):\n",
    "        C[i][j] = A[i][j] + B[i][j]\n",
    "        \n",
    "print(C)\n",
    "\n",
    "for i in range(n):\n",
    "    for j in range(n):\n",
    "        print(C[i][j], end=\" \")\n",
    "    print()\n"
   ]
  },
  {
   "cell_type": "raw",
   "metadata": {},
   "source": [
    "    2. Write a Python Program to Multiply Two Matrices?"
   ]
  },
  {
   "cell_type": "code",
   "execution_count": 7,
   "metadata": {},
   "outputs": [
    {
     "name": "stdout",
     "output_type": "stream",
     "text": [
      "Enter N for N x N matrix : 2\n",
      "Enter the elements for A ::>\n",
      "4\n",
      "5\n",
      "4\n",
      "5\n",
      "[[4, 5], [4, 5]]\n",
      "Enter the elements for B ::>\n",
      "4\n",
      "5\n",
      "4\n",
      "5\n",
      "Given matrix B [[4, 5], [4, 5]]\n",
      "[36, 45]\n",
      "[36, 45]\n"
     ]
    }
   ],
   "source": [
    "A=[]\n",
    "n=int(input(\"Enter N for N x N matrix : \"))         \n",
    "print(\"Enter the elements for A ::>\")\n",
    "for i in range(n): \n",
    "    row=[]                                        \n",
    "    for j in range(n): \n",
    "        row.append(int(input()))                \n",
    "    A.append(row)                               \n",
    "print(A)\n",
    "\n",
    "B = []\n",
    "#n=int(input(\"Matrix B for N x N matrix : \"))         \n",
    "print(\"Enter the elements for B ::>\")\n",
    "for i in range(n): \n",
    "    row=[]                                        \n",
    "    for j in range(n): \n",
    "        row.append(int(input()))                \n",
    "    B.append(row)                               \n",
    "print(\"Given matrix B\" , B)\n",
    "\n",
    "result = [[0 for i in range(len(A[0]))] for j in range(len(A))]\n",
    "\n",
    "\n",
    "for i in range(len(A)):\n",
    "    for j in range(len(B[0])):\n",
    "        for k in range(len(B)):\n",
    "            result[i][j] += A[i][k] * B[k][j]\n",
    "  \n",
    "for r in result:\n",
    "    print(r)\n"
   ]
  },
  {
   "cell_type": "raw",
   "metadata": {},
   "source": [
    "  3. Write a Python Program to Transpose a Matrix?"
   ]
  },
  {
   "cell_type": "code",
   "execution_count": 8,
   "metadata": {},
   "outputs": [
    {
     "name": "stdout",
     "output_type": "stream",
     "text": [
      "Enter N for N x N matrix : 2\n",
      "Enter the elements for A ::>\n",
      "4\n",
      "5\n",
      "4\n",
      "5\n",
      "[[4, 5], [4, 5]]\n",
      "[4, 4]\n",
      "[5, 5]\n"
     ]
    }
   ],
   "source": [
    "A=[]\n",
    "n=int(input(\"Enter N for N x N matrix : \"))         \n",
    "print(\"Enter the elements for A ::>\")\n",
    "for i in range(n): \n",
    "    row=[]                                        \n",
    "    for j in range(n): \n",
    "        row.append(int(input()))                \n",
    "    A.append(row)                               \n",
    "print(A)\n",
    "\n",
    "result = [[A[j][i] for j in range(len(A))] for i in range(len(A[0]))]\n",
    "\n",
    "for r in result:\n",
    "    print(r)"
   ]
  },
  {
   "cell_type": "raw",
   "metadata": {},
   "source": [
    " 4. Write a Python Program to Sort Words in Alphabetic Order?"
   ]
  },
  {
   "cell_type": "code",
   "execution_count": 9,
   "metadata": {},
   "outputs": [],
   "source": [
    "def alph():\n",
    "    my_string = input(\"Enter a string: \")\n",
    "    words = []\n",
    "    for word in my_string.split() :\n",
    "        word = word.lower()\n",
    "        words.append(word)\n",
    "\n",
    "    print(words)\n",
    "    words.sort()\n",
    "    \n",
    "    print(\"The Sorted words are: \")\n",
    "    for word in words :\n",
    "        print(word)\n",
    "    "
   ]
  },
  {
   "cell_type": "code",
   "execution_count": 10,
   "metadata": {},
   "outputs": [
    {
     "name": "stdout",
     "output_type": "stream",
     "text": [
      "Enter a string: hi how are you\n",
      "['hi', 'how', 'are', 'you']\n",
      "The Sorted words are: \n",
      "are\n",
      "hi\n",
      "how\n",
      "you\n"
     ]
    }
   ],
   "source": [
    "alph()"
   ]
  },
  {
   "cell_type": "raw",
   "metadata": {},
   "source": [
    "    5. Write a Python Program to Remove Punctuation From a String?"
   ]
  },
  {
   "cell_type": "code",
   "execution_count": 11,
   "metadata": {},
   "outputs": [],
   "source": [
    "def remove_punctuvation():\n",
    "    punctuations = '''!()-[]{};:'\"\\,<>./?@#$%^&*_~'''\n",
    "    my_string = input(\"Enter a string: \")\n",
    "    \n",
    "    no_punct = \"\"\n",
    "    for char in my_string:\n",
    "        if char not in punctuations:\n",
    "            no_punct = no_punct + char\n",
    "            \n",
    "    print(no_punct)\n"
   ]
  },
  {
   "cell_type": "code",
   "execution_count": 12,
   "metadata": {},
   "outputs": [
    {
     "name": "stdout",
     "output_type": "stream",
     "text": [
      "Enter a string: \" hi dhhhdkjhkjdh \"\"\" \"\" hi how are you\"\n",
      " hi dhhhdkjhkjdh   hi how are you\n"
     ]
    }
   ],
   "source": [
    "remove_punctuvation()"
   ]
  },
  {
   "cell_type": "code",
   "execution_count": null,
   "metadata": {},
   "outputs": [],
   "source": []
  },
  {
   "cell_type": "code",
   "execution_count": null,
   "metadata": {},
   "outputs": [],
   "source": []
  }
 ],
 "metadata": {
  "kernelspec": {
   "display_name": "Python 3 (ipykernel)",
   "language": "python",
   "name": "python3"
  },
  "language_info": {
   "codemirror_mode": {
    "name": "ipython",
    "version": 3
   },
   "file_extension": ".py",
   "mimetype": "text/x-python",
   "name": "python",
   "nbconvert_exporter": "python",
   "pygments_lexer": "ipython3",
   "version": "3.8.8"
  }
 },
 "nbformat": 4,
 "nbformat_minor": 4
}
