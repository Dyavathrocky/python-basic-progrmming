{
 "cells": [
  {
   "cell_type": "raw",
   "metadata": {},
   "source": [
    "    1. Write a Python Program to Add Two Matrices?\n",
    "    2. Write a Python Program to Multiply Two Matrices?\n",
    "    3. Write a Python Program to Transpose a Matrix?\n",
    "    4. Write a Python Program to Sort Words in Alphabetic Order?\n",
    "    5. Write a Python Program to Remove Punctuation From a String?"
   ]
  },
  {
   "cell_type": "raw",
   "metadata": {},
   "source": [
    " 1. Write a Python Program to Add Two Matrices?"
   ]
  },
  {
   "cell_type": "code",
   "execution_count": 51,
   "metadata": {},
   "outputs": [
    {
     "name": "stdout",
     "output_type": "stream",
     "text": [
      "Enter N for N x N matrix : 1\n",
      "Enter the elements for A ::>\n",
      "\n"
     ]
    },
    {
     "ename": "ValueError",
     "evalue": "invalid literal for int() with base 10: ''",
     "output_type": "error",
     "traceback": [
      "\u001b[0;31m---------------------------------------------------------------------------\u001b[0m",
      "\u001b[0;31mValueError\u001b[0m                                Traceback (most recent call last)",
      "\u001b[0;32m<ipython-input-51-f116b661fae6>\u001b[0m in \u001b[0;36m<module>\u001b[0;34m\u001b[0m\n\u001b[1;32m      5\u001b[0m     \u001b[0mrow\u001b[0m\u001b[0;34m=\u001b[0m\u001b[0;34m[\u001b[0m\u001b[0;34m]\u001b[0m\u001b[0;34m\u001b[0m\u001b[0;34m\u001b[0m\u001b[0m\n\u001b[1;32m      6\u001b[0m     \u001b[0;32mfor\u001b[0m \u001b[0mj\u001b[0m \u001b[0;32min\u001b[0m \u001b[0mrange\u001b[0m\u001b[0;34m(\u001b[0m\u001b[0mn\u001b[0m\u001b[0;34m)\u001b[0m\u001b[0;34m:\u001b[0m\u001b[0;34m\u001b[0m\u001b[0;34m\u001b[0m\u001b[0m\n\u001b[0;32m----> 7\u001b[0;31m         \u001b[0mrow\u001b[0m\u001b[0;34m.\u001b[0m\u001b[0mappend\u001b[0m\u001b[0;34m(\u001b[0m\u001b[0mint\u001b[0m\u001b[0;34m(\u001b[0m\u001b[0minput\u001b[0m\u001b[0;34m(\u001b[0m\u001b[0;34m)\u001b[0m\u001b[0;34m)\u001b[0m\u001b[0;34m)\u001b[0m\u001b[0;34m\u001b[0m\u001b[0;34m\u001b[0m\u001b[0m\n\u001b[0m\u001b[1;32m      8\u001b[0m     \u001b[0mA\u001b[0m\u001b[0;34m.\u001b[0m\u001b[0mappend\u001b[0m\u001b[0;34m(\u001b[0m\u001b[0mrow\u001b[0m\u001b[0;34m)\u001b[0m\u001b[0;34m\u001b[0m\u001b[0;34m\u001b[0m\u001b[0m\n\u001b[1;32m      9\u001b[0m \u001b[0mprint\u001b[0m\u001b[0;34m(\u001b[0m\u001b[0mA\u001b[0m\u001b[0;34m)\u001b[0m\u001b[0;34m\u001b[0m\u001b[0;34m\u001b[0m\u001b[0m\n",
      "\u001b[0;31mValueError\u001b[0m: invalid literal for int() with base 10: ''"
     ]
    }
   ],
   "source": [
    "A=[]\n",
    "n=int(input(\"Enter N for N x N matrix : \"))         \n",
    "print(\"Enter the elements for A ::>\")\n",
    "for i in range(n): \n",
    "    row=[]                                        \n",
    "    for j in range(n): \n",
    "        row.append(int(input()))                \n",
    "    A.append(row)                               \n",
    "print(A)\n",
    "\n",
    "B = []\n",
    "#n=int(input(\"Matrix B for N x N matrix : \"))         \n",
    "print(\"Enter the elements for B ::>\")\n",
    "for i in range(n): \n",
    "    row=[]                                        \n",
    "    for j in range(n): \n",
    "        row.append(int(input()))                \n",
    "    B.append(row)                               \n",
    "print(\"Given matrix B\" , B)\n",
    "\n",
    "\"\"\"\"A = [ [2, 1, 3], [3, 1, 5], [3, 1, 5] ]\n",
    "B = [ [1, 4, 2], [5, 2, 0] , [5, 2, 0]]\"\"\"\n",
    "\n",
    "C = [[0 for i in range(len(A[0]))] for j in range(len(A))]\n",
    "\n",
    "for i in range(len(A)):\n",
    "    for j in range(len(A[0])):\n",
    "        C[i][j] = A[i][j] + B[i][j]\n",
    "        \n",
    "print(C)\n",
    "\n",
    "for i in range(n):\n",
    "    for j in range(n):\n",
    "        print(C[i][j], end=\" \")\n",
    "    print()\n"
   ]
  },
  {
   "cell_type": "raw",
   "metadata": {},
   "source": [
    "    2. Write a Python Program to Multiply Two Matrices?"
   ]
  },
  {
   "cell_type": "code",
   "execution_count": 12,
   "metadata": {},
   "outputs": [
    {
     "name": "stdout",
     "output_type": "stream",
     "text": [
      "Enter N for N x N matrix : 2\n",
      "Enter the elements for A ::>\n",
      "2\n",
      "2\n",
      "2\n",
      "2\n",
      "[[2, 2], [2, 2]]\n",
      "Enter the elements for B ::>\n",
      "2\n",
      "2\n",
      "2\n",
      "2\n",
      "Given matrix B [[2, 2], [2, 2]]\n",
      "[8, 8]\n",
      "[8, 8]\n"
     ]
    }
   ],
   "source": [
    "A=[]\n",
    "n=int(input(\"Enter N for N x N matrix : \"))         \n",
    "print(\"Enter the elements for A ::>\")\n",
    "for i in range(n): \n",
    "    row=[]                                        \n",
    "    for j in range(n): \n",
    "        row.append(int(input()))                \n",
    "    A.append(row)                               \n",
    "print(A)\n",
    "\n",
    "B = []\n",
    "#n=int(input(\"Matrix B for N x N matrix : \"))         \n",
    "print(\"Enter the elements for B ::>\")\n",
    "for i in range(n): \n",
    "    row=[]                                        \n",
    "    for j in range(n): \n",
    "        row.append(int(input()))                \n",
    "    B.append(row)                               \n",
    "print(\"Given matrix B\" , B)\n",
    "\n",
    "result = [[0 for i in range(len(A[0]))] for j in range(len(A))]\n",
    "\n",
    "\n",
    "for i in range(len(A)):\n",
    "    for j in range(len(B[0])):\n",
    "        for k in range(len(B)):\n",
    "            result[i][j] += A[i][k] * B[k][j]\n",
    "  \n",
    "for r in result:\n",
    "    print(r)\n"
   ]
  },
  {
   "cell_type": "raw",
   "metadata": {},
   "source": [
    "  3. Write a Python Program to Transpose a Matrix?"
   ]
  },
  {
   "cell_type": "code",
   "execution_count": 14,
   "metadata": {},
   "outputs": [
    {
     "name": "stdout",
     "output_type": "stream",
     "text": [
      "Enter N for N x N matrix : 3\n",
      "Enter the elements for A ::>\n",
      "3\n",
      "3\n",
      "6\n",
      "4\n",
      "8\n",
      "8\n",
      "9\n",
      "9\n",
      "5\n",
      "[[3, 3, 6], [4, 8, 8], [9, 9, 5]]\n",
      "[3, 4, 9]\n",
      "[3, 8, 9]\n",
      "[6, 8, 5]\n"
     ]
    }
   ],
   "source": [
    "A=[]\n",
    "n=int(input(\"Enter N for N x N matrix : \"))         \n",
    "print(\"Enter the elements for A ::>\")\n",
    "for i in range(n): \n",
    "    row=[]                                        \n",
    "    for j in range(n): \n",
    "        row.append(int(input()))                \n",
    "    A.append(row)                               \n",
    "print(A)\n",
    "\n",
    "result = [[A[j][i] for j in range(len(A))] for i in range(len(A[0]))]\n",
    "\n",
    "for r in result:\n",
    "    print(r)"
   ]
  },
  {
   "cell_type": "raw",
   "metadata": {},
   "source": [
    " 4. Write a Python Program to Sort Words in Alphabetic Order?"
   ]
  },
  {
   "cell_type": "code",
   "execution_count": 49,
   "metadata": {},
   "outputs": [],
   "source": [
    "def alph():\n",
    "    my_string = input(\"Enter a string: \")\n",
    "    words = []\n",
    "    for word in my_string.split() :\n",
    "        word = word.lower()\n",
    "        words.append(word)\n",
    "\n",
    "    print(words)\n",
    "    words.sort()\n",
    "    \n",
    "    print(\"The Sorted words are: \")\n",
    "    for word in words :\n",
    "        print(word)\n",
    "    "
   ]
  },
  {
   "cell_type": "code",
   "execution_count": 50,
   "metadata": {},
   "outputs": [
    {
     "name": "stdout",
     "output_type": "stream",
     "text": [
      "Enter a string: Hello this Is an Example With cased letters\n",
      "['hello', 'this', 'is', 'an', 'example', 'with', 'cased', 'letters']\n",
      "the Sorted words are: \n",
      "an\n",
      "cased\n",
      "example\n",
      "hello\n",
      "is\n",
      "letters\n",
      "this\n",
      "with\n"
     ]
    }
   ],
   "source": [
    "alph()"
   ]
  },
  {
   "cell_type": "raw",
   "metadata": {},
   "source": [
    "    5. Write a Python Program to Remove Punctuation From a String?"
   ]
  },
  {
   "cell_type": "code",
   "execution_count": 3,
   "metadata": {},
   "outputs": [],
   "source": [
    "def remove_punctuvation():\n",
    "    punctuations = '''!()-[]{};:'\"\\,<>./?@#$%^&*_~'''\n",
    "    my_string = input(\"Enter a string: \")\n",
    "    \n",
    "    no_punct = \"\"\n",
    "    for char in my_string:\n",
    "        if char not in punctuations:\n",
    "            no_punct = no_punct + char\n",
    "            \n",
    "    print(no_punct)\n"
   ]
  },
  {
   "cell_type": "code",
   "execution_count": 4,
   "metadata": {},
   "outputs": [
    {
     "name": "stdout",
     "output_type": "stream",
     "text": [
      "Enter a string: Hello!!!, he said ---and went.\n",
      "Hello he said and went\n"
     ]
    }
   ],
   "source": [
    "remove_punctuvation()"
   ]
  },
  {
   "cell_type": "code",
   "execution_count": null,
   "metadata": {},
   "outputs": [],
   "source": []
  }
 ],
 "metadata": {
  "kernelspec": {
   "display_name": "Python 3",
   "language": "python",
   "name": "python3"
  },
  "language_info": {
   "codemirror_mode": {
    "name": "ipython",
    "version": 3
   },
   "file_extension": ".py",
   "mimetype": "text/x-python",
   "name": "python",
   "nbconvert_exporter": "python",
   "pygments_lexer": "ipython3",
   "version": "3.8.5"
  }
 },
 "nbformat": 4,
 "nbformat_minor": 4
}
